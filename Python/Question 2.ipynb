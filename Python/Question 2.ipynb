{
 "cells": [
  {
   "cell_type": "markdown",
   "id": "76658fd1",
   "metadata": {},
   "source": [
    "### Ques 2. Consider a string to be valid if all characters of the string appear the same number of times. It is also valid if he can remove just one character at the index in the string, and the remaining characters will occur the same number of times. Given a string, determine if it is valid. If so, return YES , otherwise return NO ."
   ]
  },
  {
   "cell_type": "code",
   "execution_count": 1,
   "id": "80303a34",
   "metadata": {},
   "outputs": [],
   "source": [
    "def valid_str(a):\n",
    "    d1 = dict()\n",
    "    for i in a:\n",
    "        d1[i] = a.count(i)\n",
    "    b = list(d1.values())\n",
    "    \n",
    "    temp = [i for i in b]\n",
    "    distinct = set(temp)\n",
    "    distinct.discard(0)\n",
    "    if len(distinct)==1:\n",
    "        return \"YES\"\n",
    "    \n",
    "    for i in range(len(b)):\n",
    "        temp[i] = temp[i]-1\n",
    "        distinct = set(temp)\n",
    "        distinct.discard(0)\n",
    "        if len(distinct)==1:\n",
    "            return \"YES\"\n",
    "        else:\n",
    "            temp = [j for j in b]\n",
    "    return \"NO\""
   ]
  },
  {
   "cell_type": "markdown",
   "id": "312d5061",
   "metadata": {},
   "source": [
    "#### Example 1"
   ]
  },
  {
   "cell_type": "code",
   "execution_count": 2,
   "id": "4f7cea09",
   "metadata": {},
   "outputs": [
    {
     "data": {
      "text/plain": [
       "'YES'"
      ]
     },
     "execution_count": 2,
     "metadata": {},
     "output_type": "execute_result"
    }
   ],
   "source": [
    "valid_str(\"abc\")"
   ]
  },
  {
   "cell_type": "markdown",
   "id": "d16b28e9",
   "metadata": {},
   "source": [
    "`abc` has 1 occurance of each letter and hence is valid"
   ]
  },
  {
   "cell_type": "markdown",
   "id": "b304da38",
   "metadata": {},
   "source": [
    "#### Example 2"
   ]
  },
  {
   "cell_type": "code",
   "execution_count": 3,
   "id": "f381ffc4",
   "metadata": {
    "scrolled": true
   },
   "outputs": [
    {
     "data": {
      "text/plain": [
       "'YES'"
      ]
     },
     "execution_count": 3,
     "metadata": {},
     "output_type": "execute_result"
    }
   ],
   "source": [
    "valid_str(\"azazazaz\")"
   ]
  },
  {
   "cell_type": "markdown",
   "id": "b7fa4c3d",
   "metadata": {},
   "source": [
    "`azazazaz` has 4 occurences of each letter and hence is valid"
   ]
  },
  {
   "cell_type": "markdown",
   "id": "4eec427e",
   "metadata": {},
   "source": [
    "#### Example 3"
   ]
  },
  {
   "cell_type": "code",
   "execution_count": 4,
   "id": "9149b93d",
   "metadata": {},
   "outputs": [
    {
     "data": {
      "text/plain": [
       "'YES'"
      ]
     },
     "execution_count": 4,
     "metadata": {},
     "output_type": "execute_result"
    }
   ],
   "source": [
    "valid_str(\"azazazazz\")"
   ]
  },
  {
   "cell_type": "markdown",
   "id": "505c93a7",
   "metadata": {},
   "source": [
    "`azazazazz` has 4 occurence of `a` and 5 occurences of `z`. We can remove 1 z and it will become valid"
   ]
  },
  {
   "cell_type": "markdown",
   "id": "900381d6",
   "metadata": {},
   "source": [
    "#### Example 4"
   ]
  },
  {
   "cell_type": "code",
   "execution_count": 5,
   "id": "b5a59ee3",
   "metadata": {},
   "outputs": [
    {
     "data": {
      "text/plain": [
       "'NO'"
      ]
     },
     "execution_count": 5,
     "metadata": {},
     "output_type": "execute_result"
    }
   ],
   "source": [
    "valid_str(\"azazazazzz\")"
   ]
  },
  {
   "cell_type": "markdown",
   "id": "736b2f86",
   "metadata": {},
   "source": [
    "`azazazazzz` has 4 occurences of `a` and 6 occurences of `z`. even if we remove 1 z, still it will be invalid"
   ]
  },
  {
   "cell_type": "markdown",
   "id": "8d40ac7e",
   "metadata": {},
   "source": [
    "#### Example 5"
   ]
  },
  {
   "cell_type": "code",
   "execution_count": 6,
   "id": "aa606a5f",
   "metadata": {},
   "outputs": [
    {
     "data": {
      "text/plain": [
       "'YES'"
      ]
     },
     "execution_count": 6,
     "metadata": {},
     "output_type": "execute_result"
    }
   ],
   "source": [
    "valid_str(\"abbac\")"
   ]
  },
  {
   "cell_type": "markdown",
   "id": "6f9431af",
   "metadata": {},
   "source": [
    "`abbac` has 2 occurences of `b` and `a` and 1 occurence of `c`. We can remove 1 c and the string will be valid."
   ]
  }
 ],
 "metadata": {
  "kernelspec": {
   "display_name": "Python 3 (ipykernel)",
   "language": "python",
   "name": "python3"
  },
  "language_info": {
   "codemirror_mode": {
    "name": "ipython",
    "version": 3
   },
   "file_extension": ".py",
   "mimetype": "text/x-python",
   "name": "python",
   "nbconvert_exporter": "python",
   "pygments_lexer": "ipython3",
   "version": "3.9.16"
  }
 },
 "nbformat": 4,
 "nbformat_minor": 5
}

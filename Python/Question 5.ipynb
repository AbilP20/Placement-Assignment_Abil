{
 "cells": [
  {
   "cell_type": "markdown",
   "id": "5a8be028",
   "metadata": {},
   "source": [
    "### Ques 5. Write a program to download the data from the given API link and then extract the following data with proper formatting\n",
    "### Link - http://api.tvmaze.com/singlesearch/shows?q=westworld&embed=episodes\n"
   ]
  },
  {
   "cell_type": "code",
   "execution_count": 1,
   "id": "cb0dbfba",
   "metadata": {},
   "outputs": [],
   "source": [
    "from datetime import datetime\n",
    "import pandas as pd\n",
    "import requests\n",
    "response = requests.get(\"http://api.tvmaze.com/singlesearch/shows?q=westworld&embed=episodes\")\n",
    "data = response.json() # reading the json file in the link"
   ]
  },
  {
   "cell_type": "markdown",
   "id": "c9c449ea",
   "metadata": {},
   "source": [
    "#### EXTRACTING THE REQUIRED DATA"
   ]
  },
  {
   "cell_type": "code",
   "execution_count": 2,
   "id": "c3599ddc",
   "metadata": {},
   "outputs": [],
   "source": [
    "# GETTING THE SHOW DETAILS\n",
    "show_id = data['id']\n",
    "show_url = data['url']\n",
    "show_name = data['name']\n",
    "show_lang = data['language']\n",
    "show_genr = data['genres']\n",
    "show_stat = data['status']\n",
    "show_avg_run = data['averageRuntime']\n",
    "show_prem = data['premiered']\n",
    "show_end = data['ended']\n",
    "show_site = data['officialSite']\n",
    "show_original = data['image']['original']\n",
    "show_medium = data['image']['medium']\n",
    "show_summ = data['summary'].strip('</p></b>')"
   ]
  },
  {
   "cell_type": "code",
   "execution_count": 3,
   "id": "250f082f",
   "metadata": {},
   "outputs": [],
   "source": [
    "# GETTING EPISODES' DETAILS\n",
    "ep_db = data['_embedded']['episodes']  #episode data is stored within '_embeded'\n",
    "ep_id = []\n",
    "ep_url = []\n",
    "ep_name = []\n",
    "ep_season = []\n",
    "ep_number = []\n",
    "ep_type = []\n",
    "ep_airdate = []\n",
    "ep_airtime = []\n",
    "ep_runtime = []\n",
    "ep_avg_rate = []\n",
    "ep_medium = []\n",
    "ep_original = []\n",
    "ep_summary = []\n",
    "for i in range(len(ep_db)):\n",
    "    ep_id.append(ep_db[i]['id'])\n",
    "    ep_url.append(ep_db[i]['url'])\n",
    "    ep_name.append(ep_db[i]['name'])\n",
    "    ep_season.append(ep_db[i]['season'])\n",
    "    ep_number.append(ep_db[i]['number'])\n",
    "    ep_type.append(ep_db[i]['type'])\n",
    "    ep_airdate.append(ep_db[i]['airdate'])\n",
    "    \n",
    "    val = ep_db[i]['airtime']\n",
    "    tm = datetime.strptime(val, \"%H:%M\")\n",
    "    tm_12 = tm.strftime(\"%I:%M %p\") #converting 24 hr to 12hr\n",
    "    ep_airtime.append(tm_12)\n",
    "    \n",
    "    ep_runtime.append(float(ep_db[i]['runtime']))\n",
    "    ep_avg_rate.append(ep_db[i]['rating']['average'])\n",
    "    ep_summary.append(ep_db[i]['summary'].strip('</p></b>'))\n",
    "    ep_medium.append(ep_db[i]['image']['medium'])\n",
    "    ep_original.append(ep_db[i]['image']['original'])"
   ]
  },
  {
   "cell_type": "code",
   "execution_count": 4,
   "id": "743b2a73",
   "metadata": {},
   "outputs": [],
   "source": [
    "# creating a dictionary with required columns for converting to DataFrame\n",
    "dct = {\n",
    "    'ID':ep_id,\n",
    "    'URL':ep_url,\n",
    "    'Name':ep_name,\n",
    "    'Season':ep_season,\n",
    "    'Number':ep_number,\n",
    "    'Type':ep_type,\n",
    "    'Airdate':ep_airdate,\n",
    "    'Airtime':ep_airtime,\n",
    "    'Average Rating':ep_avg_rate,\n",
    "    'Summary':ep_summary,\n",
    "    'Image link(Medium)':ep_medium,\n",
    "    'Image link(Original)':ep_original\n",
    "}"
   ]
  },
  {
   "cell_type": "code",
   "execution_count": 5,
   "id": "1afe57d3",
   "metadata": {},
   "outputs": [],
   "source": [
    "df = pd.DataFrame(dct)"
   ]
  },
  {
   "cell_type": "markdown",
   "id": "b29f5b64",
   "metadata": {},
   "source": [
    "#### DISPLAYING THE EXTRACTED DATA"
   ]
  },
  {
   "cell_type": "code",
   "execution_count": 6,
   "id": "83b7e740",
   "metadata": {
    "scrolled": true
   },
   "outputs": [
    {
     "name": "stdout",
     "output_type": "stream",
     "text": [
      "SHOW DETAILS\n",
      "------------\n",
      "ID -  1371\n",
      "URL -  https://www.tvmaze.com/shows/1371/westworld\n",
      "Name -  Westworld\n",
      "Language -  English\n",
      "Genres -  ['Drama', 'Science-Fiction', 'Western']\n",
      "Status -  Ended\n",
      "Average Runtime -  63\n",
      "Premiered On -  2016-10-02\n",
      "Ended On -  2022-08-14\n",
      "Official Site -  http://www.hbo.com/westworld\n",
      "Image (Medium) -  https://static.tvmaze.com/uploads/images/medium_portrait/445/1113927.jpg\n",
      "Image (Original) -  https://static.tvmaze.com/uploads/images/original_untouched/445/1113927.jpg\n",
      "Summary -  Westworld</b> is a dark odyssey about the dawn of artificial consciousness and the evolution of sin. Set at the intersection of the near future and the reimagined past, it explores a world in which every human appetite, no matter how noble or depraved, can be indulged.\n"
     ]
    }
   ],
   "source": [
    "print(\"SHOW DETAILS\\n------------\")\n",
    "print(\"ID - \",show_id)\n",
    "print(\"URL - \",show_url)\n",
    "print(\"Name - \",show_name)\n",
    "print(\"Language - \",show_lang)\n",
    "print(\"Genres - \",show_genr)\n",
    "print(\"Status - \",show_stat)\n",
    "print(\"Average Runtime - \",show_avg_run)\n",
    "print(\"Premiered On - \",show_prem)\n",
    "print(\"Ended On - \",show_end)\n",
    "print(\"Official Site - \",show_site)\n",
    "print(\"Image (Medium) - \",show_medium)\n",
    "print(\"Image (Original) - \",show_original)\n",
    "print(\"Summary - \",show_summ)"
   ]
  },
  {
   "cell_type": "code",
   "execution_count": 7,
   "id": "984e03a6",
   "metadata": {
    "scrolled": true
   },
   "outputs": [
    {
     "name": "stdout",
     "output_type": "stream",
     "text": [
      "ID                                                                 869671\n",
      "URL                     https://www.tvmaze.com/episodes/869671/westwor...\n",
      "Name                                                         The Original\n",
      "Season                                                                  1\n",
      "Number                                                                  1\n",
      "Type                                                              regular\n",
      "Airdate                                                        2016-10-02\n",
      "Airtime                                                          09:00 PM\n",
      "Average Rating                                                        8.0\n",
      "Summary                 A woman named Dolores is a free spirit in the ...\n",
      "Image link(Medium)      https://static.tvmaze.com/uploads/images/mediu...\n",
      "Image link(Original)    https://static.tvmaze.com/uploads/images/origi...\n",
      "Name: 0, dtype: object\n"
     ]
    }
   ],
   "source": [
    "print(df.iloc[0])"
   ]
  },
  {
   "cell_type": "code",
   "execution_count": 8,
   "id": "21763199",
   "metadata": {},
   "outputs": [
    {
     "data": {
      "text/html": [
       "<div>\n",
       "<style scoped>\n",
       "    .dataframe tbody tr th:only-of-type {\n",
       "        vertical-align: middle;\n",
       "    }\n",
       "\n",
       "    .dataframe tbody tr th {\n",
       "        vertical-align: top;\n",
       "    }\n",
       "\n",
       "    .dataframe thead th {\n",
       "        text-align: right;\n",
       "    }\n",
       "</style>\n",
       "<table border=\"1\" class=\"dataframe\">\n",
       "  <thead>\n",
       "    <tr style=\"text-align: right;\">\n",
       "      <th></th>\n",
       "      <th>ID</th>\n",
       "      <th>URL</th>\n",
       "      <th>Name</th>\n",
       "      <th>Season</th>\n",
       "      <th>Number</th>\n",
       "      <th>Type</th>\n",
       "      <th>Airdate</th>\n",
       "      <th>Airtime</th>\n",
       "      <th>Average Rating</th>\n",
       "      <th>Summary</th>\n",
       "      <th>Image link(Medium)</th>\n",
       "      <th>Image link(Original)</th>\n",
       "    </tr>\n",
       "  </thead>\n",
       "  <tbody>\n",
       "    <tr>\n",
       "      <th>31</th>\n",
       "      <td>2326657</td>\n",
       "      <td>https://www.tvmaze.com/episodes/2326657/westwo...</td>\n",
       "      <td>Generation Loss</td>\n",
       "      <td>4</td>\n",
       "      <td>4</td>\n",
       "      <td>regular</td>\n",
       "      <td>2022-07-17</td>\n",
       "      <td>09:00 PM</td>\n",
       "      <td>7.7</td>\n",
       "      <td>Should auld acquaintance be forgot and days of...</td>\n",
       "      <td>https://static.tvmaze.com/uploads/images/mediu...</td>\n",
       "      <td>https://static.tvmaze.com/uploads/images/origi...</td>\n",
       "    </tr>\n",
       "    <tr>\n",
       "      <th>32</th>\n",
       "      <td>2326658</td>\n",
       "      <td>https://www.tvmaze.com/episodes/2326658/westwo...</td>\n",
       "      <td>Zhuangzi</td>\n",
       "      <td>4</td>\n",
       "      <td>5</td>\n",
       "      <td>regular</td>\n",
       "      <td>2022-07-24</td>\n",
       "      <td>09:00 PM</td>\n",
       "      <td>7.8</td>\n",
       "      <td>God is bored.</td>\n",
       "      <td>https://static.tvmaze.com/uploads/images/mediu...</td>\n",
       "      <td>https://static.tvmaze.com/uploads/images/origi...</td>\n",
       "    </tr>\n",
       "    <tr>\n",
       "      <th>33</th>\n",
       "      <td>2326659</td>\n",
       "      <td>https://www.tvmaze.com/episodes/2326659/westwo...</td>\n",
       "      <td>Fidelity</td>\n",
       "      <td>4</td>\n",
       "      <td>6</td>\n",
       "      <td>regular</td>\n",
       "      <td>2022-07-31</td>\n",
       "      <td>09:00 PM</td>\n",
       "      <td>7.5</td>\n",
       "      <td>To thine own selves be true.</td>\n",
       "      <td>https://static.tvmaze.com/uploads/images/mediu...</td>\n",
       "      <td>https://static.tvmaze.com/uploads/images/origi...</td>\n",
       "    </tr>\n",
       "    <tr>\n",
       "      <th>34</th>\n",
       "      <td>2326660</td>\n",
       "      <td>https://www.tvmaze.com/episodes/2326660/westwo...</td>\n",
       "      <td>Metanoia</td>\n",
       "      <td>4</td>\n",
       "      <td>7</td>\n",
       "      <td>regular</td>\n",
       "      <td>2022-08-07</td>\n",
       "      <td>09:00 PM</td>\n",
       "      <td>7.7</td>\n",
       "      <td>You want to have a drink at a time like this?</td>\n",
       "      <td>https://static.tvmaze.com/uploads/images/mediu...</td>\n",
       "      <td>https://static.tvmaze.com/uploads/images/origi...</td>\n",
       "    </tr>\n",
       "    <tr>\n",
       "      <th>35</th>\n",
       "      <td>2326661</td>\n",
       "      <td>https://www.tvmaze.com/episodes/2326661/westwo...</td>\n",
       "      <td>Que Será, Será</td>\n",
       "      <td>4</td>\n",
       "      <td>8</td>\n",
       "      <td>regular</td>\n",
       "      <td>2022-08-14</td>\n",
       "      <td>09:00 PM</td>\n",
       "      <td>7.5</td>\n",
       "      <td>Like what I've done with the place? (I just cr...</td>\n",
       "      <td>https://static.tvmaze.com/uploads/images/mediu...</td>\n",
       "      <td>https://static.tvmaze.com/uploads/images/origi...</td>\n",
       "    </tr>\n",
       "  </tbody>\n",
       "</table>\n",
       "</div>"
      ],
      "text/plain": [
       "         ID                                                URL  \\\n",
       "31  2326657  https://www.tvmaze.com/episodes/2326657/westwo...   \n",
       "32  2326658  https://www.tvmaze.com/episodes/2326658/westwo...   \n",
       "33  2326659  https://www.tvmaze.com/episodes/2326659/westwo...   \n",
       "34  2326660  https://www.tvmaze.com/episodes/2326660/westwo...   \n",
       "35  2326661  https://www.tvmaze.com/episodes/2326661/westwo...   \n",
       "\n",
       "               Name  Season  Number     Type     Airdate   Airtime  \\\n",
       "31  Generation Loss       4       4  regular  2022-07-17  09:00 PM   \n",
       "32         Zhuangzi       4       5  regular  2022-07-24  09:00 PM   \n",
       "33         Fidelity       4       6  regular  2022-07-31  09:00 PM   \n",
       "34         Metanoia       4       7  regular  2022-08-07  09:00 PM   \n",
       "35   Que Será, Será       4       8  regular  2022-08-14  09:00 PM   \n",
       "\n",
       "    Average Rating                                            Summary  \\\n",
       "31             7.7  Should auld acquaintance be forgot and days of...   \n",
       "32             7.8                                      God is bored.   \n",
       "33             7.5                       To thine own selves be true.   \n",
       "34             7.7      You want to have a drink at a time like this?   \n",
       "35             7.5  Like what I've done with the place? (I just cr...   \n",
       "\n",
       "                                   Image link(Medium)  \\\n",
       "31  https://static.tvmaze.com/uploads/images/mediu...   \n",
       "32  https://static.tvmaze.com/uploads/images/mediu...   \n",
       "33  https://static.tvmaze.com/uploads/images/mediu...   \n",
       "34  https://static.tvmaze.com/uploads/images/mediu...   \n",
       "35  https://static.tvmaze.com/uploads/images/mediu...   \n",
       "\n",
       "                                 Image link(Original)  \n",
       "31  https://static.tvmaze.com/uploads/images/origi...  \n",
       "32  https://static.tvmaze.com/uploads/images/origi...  \n",
       "33  https://static.tvmaze.com/uploads/images/origi...  \n",
       "34  https://static.tvmaze.com/uploads/images/origi...  \n",
       "35  https://static.tvmaze.com/uploads/images/origi...  "
      ]
     },
     "execution_count": 8,
     "metadata": {},
     "output_type": "execute_result"
    }
   ],
   "source": [
    "df.tail()"
   ]
  },
  {
   "cell_type": "code",
   "execution_count": 9,
   "id": "b433b1e5",
   "metadata": {},
   "outputs": [],
   "source": [
    "#Saving the content\n",
    "df.to_excel('Ques5.xlsx',index=False)\n",
    "df.to_csv('Ques5.csv',index=False)"
   ]
  }
 ],
 "metadata": {
  "kernelspec": {
   "display_name": "Python 3 (ipykernel)",
   "language": "python",
   "name": "python3"
  },
  "language_info": {
   "codemirror_mode": {
    "name": "ipython",
    "version": 3
   },
   "file_extension": ".py",
   "mimetype": "text/x-python",
   "name": "python",
   "nbconvert_exporter": "python",
   "pygments_lexer": "ipython3",
   "version": "3.9.16"
  }
 },
 "nbformat": 4,
 "nbformat_minor": 5
}

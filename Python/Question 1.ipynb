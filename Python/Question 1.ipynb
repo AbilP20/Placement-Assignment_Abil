{
 "cells": [
  {
   "cell_type": "markdown",
   "id": "10e17d14",
   "metadata": {},
   "source": [
    "### Ques 1. Write a program that takes a string as input, and counts the frequency of each word in the string, there might be repeated characters in the string. Your task is to find the highest frequency and returns the length of the highest-frequency word."
   ]
  },
  {
   "cell_type": "code",
   "execution_count": 1,
   "id": "77464543",
   "metadata": {},
   "outputs": [],
   "source": [
    "def highest_freq_word(a):\n",
    "    b = a.split()\n",
    "    for i in range(len(b)):\n",
    "        for j in [',', ':', ';', '.']:\n",
    "            b[i]=b[i].strip(j)\n",
    "    lst = []\n",
    "    for i in range(len(b)):\n",
    "        lst.append((b[i], b.count(b[i])))\n",
    "    maxx = 0\n",
    "    word=set()\n",
    "    for i,j in lst:\n",
    "        if j>=maxx:\n",
    "            maxx=j\n",
    "            word.add(i)\n",
    "    c = [len(i) for i in word]\n",
    "    return max(c)"
   ]
  },
  {
   "cell_type": "markdown",
   "id": "f4f12105",
   "metadata": {},
   "source": [
    "#### Example i/p 1"
   ]
  },
  {
   "cell_type": "code",
   "execution_count": 2,
   "id": "9a72a9a4",
   "metadata": {
    "scrolled": false
   },
   "outputs": [
    {
     "data": {
      "text/plain": [
       "5"
      ]
     },
     "execution_count": 2,
     "metadata": {},
     "output_type": "execute_result"
    }
   ],
   "source": [
    "ip1 = \"write write write all the number from from from 1 to 100\"\n",
    "highest_freq_word(ip1)"
   ]
  },
  {
   "cell_type": "markdown",
   "id": "c1212016",
   "metadata": {},
   "source": [
    "the highest frequency words are `write` and `from` and `write` has the larger length so, the output will be `len('write')` = 5"
   ]
  },
  {
   "cell_type": "markdown",
   "id": "6216dc85",
   "metadata": {},
   "source": [
    "#### Example i/p 2"
   ]
  },
  {
   "cell_type": "code",
   "execution_count": 3,
   "id": "0d835c2b",
   "metadata": {
    "scrolled": true
   },
   "outputs": [
    {
     "data": {
      "text/plain": [
       "5"
      ]
     },
     "execution_count": 3,
     "metadata": {},
     "output_type": "execute_result"
    }
   ],
   "source": [
    "ip2 = \"hello hello hello, welcome welcome to the 8th wonder\"\n",
    "highest_freq_word(ip2)"
   ]
  },
  {
   "cell_type": "markdown",
   "id": "fa1bb4cf",
   "metadata": {},
   "source": [
    "highest occuring word is `hello` and since there are no other higher frequency words, the output will be `len('hello')`=5"
   ]
  },
  {
   "cell_type": "markdown",
   "id": "a76307ba",
   "metadata": {},
   "source": [
    "#### Example i/p 3"
   ]
  },
  {
   "cell_type": "code",
   "execution_count": 4,
   "id": "b9adff6a",
   "metadata": {},
   "outputs": [
    {
     "data": {
      "text/plain": [
       "7"
      ]
     },
     "execution_count": 4,
     "metadata": {},
     "output_type": "execute_result"
    }
   ],
   "source": [
    "ip3 = \"hello hello hello, welcome welcome welcome to the 8th wonder\"\n",
    "highest_freq_word(ip3)"
   ]
  },
  {
   "cell_type": "markdown",
   "id": "0c25a291",
   "metadata": {},
   "source": [
    "Here we added one more `welcome` to the example 2 input string, so the new highest frequency word becomes `welcome` and the corresponding output becomes `len('welcome')` = 7"
   ]
  },
  {
   "cell_type": "markdown",
   "id": "b3cb1aa6",
   "metadata": {},
   "source": [
    "#### Example i/p 4"
   ]
  },
  {
   "cell_type": "code",
   "execution_count": 5,
   "id": "f1bd6c7d",
   "metadata": {},
   "outputs": [
    {
     "data": {
      "text/plain": [
       "5"
      ]
     },
     "execution_count": 5,
     "metadata": {},
     "output_type": "execute_result"
    }
   ],
   "source": [
    "ip4 = \"hieqw, hieqw, i am here here to present this much much awaited tropy\"\n",
    "highest_freq_word(ip4)"
   ]
  },
  {
   "cell_type": "markdown",
   "id": "69388b5c",
   "metadata": {},
   "source": [
    "In the above example we added words with comma(','). So after removing those commas, the highest frequency word is `hieqw` so output becomes `len('hieqw')` = 5"
   ]
  }
 ],
 "metadata": {
  "kernelspec": {
   "display_name": "Python 3 (ipykernel)",
   "language": "python",
   "name": "python3"
  },
  "language_info": {
   "codemirror_mode": {
    "name": "ipython",
    "version": 3
   },
   "file_extension": ".py",
   "mimetype": "text/x-python",
   "name": "python",
   "nbconvert_exporter": "python",
   "pygments_lexer": "ipython3",
   "version": "3.9.16"
  }
 },
 "nbformat": 4,
 "nbformat_minor": 5
}

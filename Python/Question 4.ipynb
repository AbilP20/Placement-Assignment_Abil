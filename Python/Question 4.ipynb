{
 "cells": [
  {
   "cell_type": "markdown",
   "id": "42a5e211",
   "metadata": {},
   "source": [
    "### Ques 4. Write a program to download the data from the link given below and then read the data and convert the into the proper structure and return it as a CSV file.\n",
    "### Link - https://data.nasa.gov/resource/y77d-th95.json"
   ]
  },
  {
   "cell_type": "code",
   "execution_count": 1,
   "id": "27fe176e",
   "metadata": {},
   "outputs": [],
   "source": [
    "import pandas as pd\n",
    "import requests\n",
    "response = requests.get(\"https://data.nasa.gov/resource/y77d-th95.json\")\n",
    "data = response.json() # reading the json file in the link"
   ]
  },
  {
   "cell_type": "code",
   "execution_count": 2,
   "id": "d0854c8e",
   "metadata": {},
   "outputs": [],
   "source": [
    "df = pd.DataFrame(data)\n",
    "\n",
    "#we need only below mentioned columns in the csv\n",
    "cols = ['name', 'id', 'nametype', 'recclass', 'mass', 'fall', 'year', 'reclat', 'reclong', 'geolocation']\n",
    "dcopy = df.copy()\n",
    "dcopy = dcopy[cols]"
   ]
  },
  {
   "cell_type": "code",
   "execution_count": 3,
   "id": "42858c60",
   "metadata": {},
   "outputs": [],
   "source": [
    "# List to str for 'geolocation category'\n",
    "for i in range(len(dcopy['geolocation'])):\n",
    "    if type(dcopy['geolocation'][i])==float:\n",
    "        val = \"\"   #set val = '' if data is nan, which is float dtype\n",
    "    else:\n",
    "        b = dcopy['geolocation'][i]['coordinates']\n",
    "        c = [str(i) for i in b]\n",
    "        val = ', '. join(c)\n",
    "    dcopy['geolocation'][i] = val"
   ]
  },
  {
   "cell_type": "code",
   "execution_count": 4,
   "id": "a00c6d02",
   "metadata": {},
   "outputs": [],
   "source": [
    "# Deleting unneccessary parts from the 'year' column\n",
    "for i in range(len(dcopy['year'])):\n",
    "    if type(dcopy['year'][i])==float:\n",
    "        val = \"\"   #set val = '' if data is nan, which is float dtype\n",
    "    else:\n",
    "        val = dcopy['year'][i].strip('T00:00:00.000')\n",
    "    dcopy['year'][i] = val"
   ]
  },
  {
   "cell_type": "code",
   "execution_count": 5,
   "id": "ec9a0ec8",
   "metadata": {},
   "outputs": [],
   "source": [
    "dcopy.to_csv(\"Ques3.csv\",index=False) #converting the new df to .csv"
   ]
  }
 ],
 "metadata": {
  "kernelspec": {
   "display_name": "Python 3 (ipykernel)",
   "language": "python",
   "name": "python3"
  },
  "language_info": {
   "codemirror_mode": {
    "name": "ipython",
    "version": 3
   },
   "file_extension": ".py",
   "mimetype": "text/x-python",
   "name": "python",
   "nbconvert_exporter": "python",
   "pygments_lexer": "ipython3",
   "version": "3.9.16"
  }
 },
 "nbformat": 4,
 "nbformat_minor": 5
}

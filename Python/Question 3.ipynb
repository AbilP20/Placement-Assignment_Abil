{
 "cells": [
  {
   "cell_type": "markdown",
   "id": "e4d72047",
   "metadata": {},
   "source": [
    "### Ques 3. Write a program, which would download the data from the provided link, and then read the data and convert that into properly structured data and return it in Excel format.\n",
    "### Link - https://raw.githubusercontent.com/Biuni/PokemonGO-Pokedex/master/pokedex.json"
   ]
  },
  {
   "cell_type": "code",
   "execution_count": 1,
   "id": "66a41ec3",
   "metadata": {},
   "outputs": [],
   "source": [
    "import pandas as pd\n",
    "import requests\n",
    "import warnings\n",
    "warnings.filterwarnings(\"ignore\")\n",
    "\n",
    "response = requests.get(\"https://raw.githubusercontent.com/Biuni/PokemonGO-Pokedex/master/pokedex.json\")\n",
    "data = response.json() # reading the json file in the link\n",
    "lst = data[\"pokemon\"] # extract the required data\n",
    "df = pd.DataFrame(lst) # convert the required data into DataFrame\n"
   ]
  },
  {
   "cell_type": "code",
   "execution_count": 2,
   "id": "146a29b1",
   "metadata": {},
   "outputs": [],
   "source": [
    "dcopy = df.copy()"
   ]
  },
  {
   "cell_type": "markdown",
   "id": "a490ff74",
   "metadata": {},
   "source": [
    "#### Making the data better (Changing lists into strings for better readability in excel)"
   ]
  },
  {
   "cell_type": "code",
   "execution_count": 3,
   "id": "1b043628",
   "metadata": {},
   "outputs": [],
   "source": [
    "# changing 'type' column\n",
    "for i in range(len(dcopy['type'])):\n",
    "    val = ', '.join(dcopy['type'][i]) #convert list to str\n",
    "    dcopy['type'][i]=val #assign new value"
   ]
  },
  {
   "cell_type": "code",
   "execution_count": 4,
   "id": "2e7b9592",
   "metadata": {},
   "outputs": [],
   "source": [
    "# changing 'multipliers' column\n",
    "for i in range(len(dcopy['multipliers'])):\n",
    "    if df['multipliers'][i]==None: \n",
    "        val = \"\"  # set val ='' if the data = None\n",
    "    else:\n",
    "        a = [str(i) for i in df['multipliers'][i]] #get list of all int converted to str\n",
    "        val = ', '.join(a) #list to str\n",
    "    dcopy['multipliers'][i]=val #assign new val"
   ]
  },
  {
   "cell_type": "code",
   "execution_count": 5,
   "id": "b125dcd1",
   "metadata": {},
   "outputs": [],
   "source": [
    "# changing 'weaknesses' column\n",
    "for i in range(len(dcopy['weaknesses'])):\n",
    "    val = ', '.join(dcopy['weaknesses'][i])\n",
    "    dcopy['weaknesses'][i]=val"
   ]
  },
  {
   "cell_type": "code",
   "execution_count": 7,
   "id": "8c8c8721",
   "metadata": {},
   "outputs": [],
   "source": [
    "# changing 'next_evolution' column\n",
    "for j in range(len(dcopy['next_evolution'])):\n",
    "    if type(dcopy['next_evolution'][j])==float:\n",
    "        val = \"\"   #set val = '' if data in nan, which is float dtype\n",
    "    else:\n",
    "        val_lst=[]\n",
    "        for i in dcopy['next_evolution'][j]:\n",
    "            b = [j for i,j in i.items()]  #get list of the values required\n",
    "            val = ' : '.join(b)\n",
    "            val_lst.append(val)\n",
    "        val = ', '.join(val_lst)       #list to str\n",
    "    dcopy['next_evolution'][j]=val    #assign new val"
   ]
  },
  {
   "cell_type": "code",
   "execution_count": 8,
   "id": "ce3ca76e",
   "metadata": {},
   "outputs": [],
   "source": [
    "# changing 'prev_evolution' column - same functioning as above column\n",
    "for j in range(len(dcopy['prev_evolution'])):\n",
    "    if type(dcopy['prev_evolution'][j])==float: \n",
    "        val = \"\" \n",
    "    else:\n",
    "        val_lst=[]\n",
    "        for i in dcopy['prev_evolution'][j]:\n",
    "            b = [j for i,j in i.items()]\n",
    "            val = ' : '.join(b)\n",
    "            val_lst.append(val)\n",
    "        val = ', '.join(val_lst)  \n",
    "    dcopy['prev_evolution'][j]=val"
   ]
  },
  {
   "cell_type": "code",
   "execution_count": 9,
   "id": "c8845598",
   "metadata": {},
   "outputs": [],
   "source": [
    "dcopy.to_excel(\"Ques2.xlsx\",index=False) # converting the new DataFrame to Excel"
   ]
  }
 ],
 "metadata": {
  "kernelspec": {
   "display_name": "Python 3 (ipykernel)",
   "language": "python",
   "name": "python3"
  },
  "language_info": {
   "codemirror_mode": {
    "name": "ipython",
    "version": 3
   },
   "file_extension": ".py",
   "mimetype": "text/x-python",
   "name": "python",
   "nbconvert_exporter": "python",
   "pygments_lexer": "ipython3",
   "version": "3.9.16"
  }
 },
 "nbformat": 4,
 "nbformat_minor": 5
}

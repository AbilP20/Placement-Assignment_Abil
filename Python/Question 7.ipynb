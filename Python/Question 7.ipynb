{
 "cells": [
  {
   "cell_type": "markdown",
   "id": "adf897f0",
   "metadata": {},
   "source": [
    "### Ques 7. Using the data from Question 4, write code to analyze the data and answer the following questions"
   ]
  },
  {
   "cell_type": "code",
   "execution_count": 1,
   "id": "aaf215ad",
   "metadata": {},
   "outputs": [],
   "source": [
    "import pandas as pd\n",
    "import warnings\n",
    "warnings.filterwarnings(\"ignore\")"
   ]
  },
  {
   "cell_type": "code",
   "execution_count": 2,
   "id": "167d8147",
   "metadata": {},
   "outputs": [],
   "source": [
    "df = pd.read_csv('Ques3.csv')"
   ]
  },
  {
   "cell_type": "code",
   "execution_count": 3,
   "id": "ed33db74",
   "metadata": {},
   "outputs": [
    {
     "data": {
      "text/plain": [
       "Index(['name', 'id', 'nametype', 'recclass', 'mass', 'fall', 'year', 'reclat',\n",
       "       'reclong', 'geolocation'],\n",
       "      dtype='object')"
      ]
     },
     "execution_count": 3,
     "metadata": {},
     "output_type": "execute_result"
    }
   ],
   "source": [
    "df.columns"
   ]
  },
  {
   "cell_type": "markdown",
   "id": "43ee97c4",
   "metadata": {},
   "source": [
    "### ● Get all the Earth meteorites that fell before the year 2000"
   ]
  },
  {
   "cell_type": "code",
   "execution_count": 4,
   "id": "0e45389a",
   "metadata": {},
   "outputs": [
    {
     "name": "stdout",
     "output_type": "stream",
     "text": [
      "1583-01-01\n"
     ]
    },
    {
     "data": {
      "text/plain": [
       "Timestamp('1677-09-21 00:12:43.145224193')"
      ]
     },
     "execution_count": 4,
     "metadata": {},
     "output_type": "execute_result"
    }
   ],
   "source": [
    "print(df['year'][174])  # pd.dataframe has min limit\n",
    "pd.Timestamp.min"
   ]
  },
  {
   "cell_type": "markdown",
   "id": "116af6d5",
   "metadata": {},
   "source": [
    "so we will change all str dates of the 'year' column to pd.datetime which will change all years below 1677 to pd.NaT (Not a Time)"
   ]
  },
  {
   "cell_type": "code",
   "execution_count": 5,
   "id": "7f2f4a96",
   "metadata": {},
   "outputs": [],
   "source": [
    "dcopy=df.copy()\n",
    "dcopy['year_only'] = df['year'] \n",
    "dcopy[\"year_only\"] = pd.to_datetime(dcopy[\"year\"], errors=\"coerce\")"
   ]
  },
  {
   "cell_type": "code",
   "execution_count": 6,
   "id": "80d57d98",
   "metadata": {},
   "outputs": [
    {
     "data": {
      "text/html": [
       "<div>\n",
       "<style scoped>\n",
       "    .dataframe tbody tr th:only-of-type {\n",
       "        vertical-align: middle;\n",
       "    }\n",
       "\n",
       "    .dataframe tbody tr th {\n",
       "        vertical-align: top;\n",
       "    }\n",
       "\n",
       "    .dataframe thead th {\n",
       "        text-align: right;\n",
       "    }\n",
       "</style>\n",
       "<table border=\"1\" class=\"dataframe\">\n",
       "  <thead>\n",
       "    <tr style=\"text-align: right;\">\n",
       "      <th></th>\n",
       "      <th>name</th>\n",
       "      <th>id</th>\n",
       "      <th>year</th>\n",
       "    </tr>\n",
       "  </thead>\n",
       "  <tbody>\n",
       "    <tr>\n",
       "      <th>0</th>\n",
       "      <td>Aachen</td>\n",
       "      <td>1</td>\n",
       "      <td>1880-01-01</td>\n",
       "    </tr>\n",
       "    <tr>\n",
       "      <th>1</th>\n",
       "      <td>Aarhus</td>\n",
       "      <td>2</td>\n",
       "      <td>1951-01-01</td>\n",
       "    </tr>\n",
       "    <tr>\n",
       "      <th>2</th>\n",
       "      <td>Abee</td>\n",
       "      <td>6</td>\n",
       "      <td>1952-01-01</td>\n",
       "    </tr>\n",
       "    <tr>\n",
       "      <th>3</th>\n",
       "      <td>Acapulco</td>\n",
       "      <td>10</td>\n",
       "      <td>1976-01-01</td>\n",
       "    </tr>\n",
       "    <tr>\n",
       "      <th>4</th>\n",
       "      <td>Achiras</td>\n",
       "      <td>370</td>\n",
       "      <td>1902-01-01</td>\n",
       "    </tr>\n",
       "    <tr>\n",
       "      <th>...</th>\n",
       "      <td>...</td>\n",
       "      <td>...</td>\n",
       "      <td>...</td>\n",
       "    </tr>\n",
       "    <tr>\n",
       "      <th>994</th>\n",
       "      <td>Timochin</td>\n",
       "      <td>24004</td>\n",
       "      <td>1807-01-01</td>\n",
       "    </tr>\n",
       "    <tr>\n",
       "      <th>995</th>\n",
       "      <td>Tirupati</td>\n",
       "      <td>24009</td>\n",
       "      <td>1934-01-01</td>\n",
       "    </tr>\n",
       "    <tr>\n",
       "      <th>997</th>\n",
       "      <td>Tjabe</td>\n",
       "      <td>24011</td>\n",
       "      <td>1869-01-01</td>\n",
       "    </tr>\n",
       "    <tr>\n",
       "      <th>998</th>\n",
       "      <td>Tjerebon</td>\n",
       "      <td>24012</td>\n",
       "      <td>1922-01-01</td>\n",
       "    </tr>\n",
       "    <tr>\n",
       "      <th>999</th>\n",
       "      <td>Tomakovka</td>\n",
       "      <td>24019</td>\n",
       "      <td>1905-01-01</td>\n",
       "    </tr>\n",
       "  </tbody>\n",
       "</table>\n",
       "<p>912 rows × 3 columns</p>\n",
       "</div>"
      ],
      "text/plain": [
       "          name     id        year\n",
       "0       Aachen      1  1880-01-01\n",
       "1       Aarhus      2  1951-01-01\n",
       "2         Abee      6  1952-01-01\n",
       "3     Acapulco     10  1976-01-01\n",
       "4      Achiras    370  1902-01-01\n",
       "..         ...    ...         ...\n",
       "994   Timochin  24004  1807-01-01\n",
       "995   Tirupati  24009  1934-01-01\n",
       "997      Tjabe  24011  1869-01-01\n",
       "998   Tjerebon  24012  1922-01-01\n",
       "999  Tomakovka  24019  1905-01-01\n",
       "\n",
       "[912 rows x 3 columns]"
      ]
     },
     "execution_count": 6,
     "metadata": {},
     "output_type": "execute_result"
    }
   ],
   "source": [
    "dcopy[dcopy['year_only'].apply(lambda x:x.year<2000)][['name','id','year']]"
   ]
  },
  {
   "cell_type": "code",
   "execution_count": 7,
   "id": "75e9ae8d",
   "metadata": {},
   "outputs": [
    {
     "name": "stdout",
     "output_type": "stream",
     "text": [
      "NaT\n",
      "True\n"
     ]
    }
   ],
   "source": [
    "print(dcopy['year_only'][174])\n",
    "print(dcopy['year_only'][174] is pd.NaT)"
   ]
  },
  {
   "cell_type": "code",
   "execution_count": 8,
   "id": "e89b1779",
   "metadata": {},
   "outputs": [
    {
     "name": "stdout",
     "output_type": "stream",
     "text": [
      "1951-01-01 00:00:00\n",
      "False\n"
     ]
    }
   ],
   "source": [
    "print(dcopy['year_only'][1])\n",
    "print(dcopy['year_only'][1] is pd.NaT)"
   ]
  },
  {
   "cell_type": "markdown",
   "id": "c02b8bc0",
   "metadata": {},
   "source": [
    "### ● Get all the earth meteorites co-ordinates who fell before the year 1970"
   ]
  },
  {
   "cell_type": "code",
   "execution_count": 9,
   "id": "d4fd1c7b",
   "metadata": {},
   "outputs": [],
   "source": [
    "dcopy['coordinates']=dcopy['geolocation']"
   ]
  },
  {
   "cell_type": "code",
   "execution_count": 10,
   "id": "6eeab03f",
   "metadata": {},
   "outputs": [
    {
     "data": {
      "text/html": [
       "<div>\n",
       "<style scoped>\n",
       "    .dataframe tbody tr th:only-of-type {\n",
       "        vertical-align: middle;\n",
       "    }\n",
       "\n",
       "    .dataframe tbody tr th {\n",
       "        vertical-align: top;\n",
       "    }\n",
       "\n",
       "    .dataframe thead th {\n",
       "        text-align: right;\n",
       "    }\n",
       "</style>\n",
       "<table border=\"1\" class=\"dataframe\">\n",
       "  <thead>\n",
       "    <tr style=\"text-align: right;\">\n",
       "      <th></th>\n",
       "      <th>name</th>\n",
       "      <th>id</th>\n",
       "      <th>year</th>\n",
       "      <th>coordinates</th>\n",
       "    </tr>\n",
       "  </thead>\n",
       "  <tbody>\n",
       "    <tr>\n",
       "      <th>0</th>\n",
       "      <td>Aachen</td>\n",
       "      <td>1</td>\n",
       "      <td>1880-01-01</td>\n",
       "      <td>6.08333, 50.775</td>\n",
       "    </tr>\n",
       "    <tr>\n",
       "      <th>1</th>\n",
       "      <td>Aarhus</td>\n",
       "      <td>2</td>\n",
       "      <td>1951-01-01</td>\n",
       "      <td>10.23333, 56.18333</td>\n",
       "    </tr>\n",
       "    <tr>\n",
       "      <th>2</th>\n",
       "      <td>Abee</td>\n",
       "      <td>6</td>\n",
       "      <td>1952-01-01</td>\n",
       "      <td>-113, 54.21667</td>\n",
       "    </tr>\n",
       "    <tr>\n",
       "      <th>4</th>\n",
       "      <td>Achiras</td>\n",
       "      <td>370</td>\n",
       "      <td>1902-01-01</td>\n",
       "      <td>-64.95, -33.16667</td>\n",
       "    </tr>\n",
       "    <tr>\n",
       "      <th>5</th>\n",
       "      <td>Adhi Kot</td>\n",
       "      <td>379</td>\n",
       "      <td>1919-01-01</td>\n",
       "      <td>71.8, 32.1</td>\n",
       "    </tr>\n",
       "    <tr>\n",
       "      <th>...</th>\n",
       "      <td>...</td>\n",
       "      <td>...</td>\n",
       "      <td>...</td>\n",
       "      <td>...</td>\n",
       "    </tr>\n",
       "    <tr>\n",
       "      <th>994</th>\n",
       "      <td>Timochin</td>\n",
       "      <td>24004</td>\n",
       "      <td>1807-01-01</td>\n",
       "      <td>35.2, 54.5</td>\n",
       "    </tr>\n",
       "    <tr>\n",
       "      <th>995</th>\n",
       "      <td>Tirupati</td>\n",
       "      <td>24009</td>\n",
       "      <td>1934-01-01</td>\n",
       "      <td>79.41667, 13.63333</td>\n",
       "    </tr>\n",
       "    <tr>\n",
       "      <th>997</th>\n",
       "      <td>Tjabe</td>\n",
       "      <td>24011</td>\n",
       "      <td>1869-01-01</td>\n",
       "      <td>111.53333, -7.08333</td>\n",
       "    </tr>\n",
       "    <tr>\n",
       "      <th>998</th>\n",
       "      <td>Tjerebon</td>\n",
       "      <td>24012</td>\n",
       "      <td>1922-01-01</td>\n",
       "      <td>106.58333, -6.66667</td>\n",
       "    </tr>\n",
       "    <tr>\n",
       "      <th>999</th>\n",
       "      <td>Tomakovka</td>\n",
       "      <td>24019</td>\n",
       "      <td>1905-01-01</td>\n",
       "      <td>34.76667, 47.85</td>\n",
       "    </tr>\n",
       "  </tbody>\n",
       "</table>\n",
       "<p>763 rows × 4 columns</p>\n",
       "</div>"
      ],
      "text/plain": [
       "          name     id        year          coordinates\n",
       "0       Aachen      1  1880-01-01      6.08333, 50.775\n",
       "1       Aarhus      2  1951-01-01   10.23333, 56.18333\n",
       "2         Abee      6  1952-01-01       -113, 54.21667\n",
       "4      Achiras    370  1902-01-01    -64.95, -33.16667\n",
       "5     Adhi Kot    379  1919-01-01           71.8, 32.1\n",
       "..         ...    ...         ...                  ...\n",
       "994   Timochin  24004  1807-01-01           35.2, 54.5\n",
       "995   Tirupati  24009  1934-01-01   79.41667, 13.63333\n",
       "997      Tjabe  24011  1869-01-01  111.53333, -7.08333\n",
       "998   Tjerebon  24012  1922-01-01  106.58333, -6.66667\n",
       "999  Tomakovka  24019  1905-01-01      34.76667, 47.85\n",
       "\n",
       "[763 rows x 4 columns]"
      ]
     },
     "execution_count": 10,
     "metadata": {},
     "output_type": "execute_result"
    }
   ],
   "source": [
    "dcopy[dcopy['year_only'].apply(lambda x:x.year<1970)][['name','id','year','coordinates']]"
   ]
  },
  {
   "cell_type": "markdown",
   "id": "834b25ce",
   "metadata": {},
   "source": [
    "### ● Assuming that the mass of the earth meteorites was in kg, get all those whose mass was more than 10000kg"
   ]
  },
  {
   "cell_type": "code",
   "execution_count": 11,
   "id": "0fefd3bd",
   "metadata": {},
   "outputs": [
    {
     "data": {
      "text/html": [
       "<div>\n",
       "<style scoped>\n",
       "    .dataframe tbody tr th:only-of-type {\n",
       "        vertical-align: middle;\n",
       "    }\n",
       "\n",
       "    .dataframe tbody tr th {\n",
       "        vertical-align: top;\n",
       "    }\n",
       "\n",
       "    .dataframe thead th {\n",
       "        text-align: right;\n",
       "    }\n",
       "</style>\n",
       "<table border=\"1\" class=\"dataframe\">\n",
       "  <thead>\n",
       "    <tr style=\"text-align: right;\">\n",
       "      <th></th>\n",
       "      <th>name</th>\n",
       "      <th>id</th>\n",
       "      <th>mass</th>\n",
       "    </tr>\n",
       "  </thead>\n",
       "  <tbody>\n",
       "    <tr>\n",
       "      <th>2</th>\n",
       "      <td>Abee</td>\n",
       "      <td>6</td>\n",
       "      <td>107000.0</td>\n",
       "    </tr>\n",
       "    <tr>\n",
       "      <th>7</th>\n",
       "      <td>Agen</td>\n",
       "      <td>392</td>\n",
       "      <td>30000.0</td>\n",
       "    </tr>\n",
       "    <tr>\n",
       "      <th>11</th>\n",
       "      <td>Aïr</td>\n",
       "      <td>424</td>\n",
       "      <td>24000.0</td>\n",
       "    </tr>\n",
       "    <tr>\n",
       "      <th>16</th>\n",
       "      <td>Akyumak</td>\n",
       "      <td>433</td>\n",
       "      <td>50000.0</td>\n",
       "    </tr>\n",
       "    <tr>\n",
       "      <th>27</th>\n",
       "      <td>Alfianello</td>\n",
       "      <td>466</td>\n",
       "      <td>228000.0</td>\n",
       "    </tr>\n",
       "    <tr>\n",
       "      <th>...</th>\n",
       "      <td>...</td>\n",
       "      <td>...</td>\n",
       "      <td>...</td>\n",
       "    </tr>\n",
       "    <tr>\n",
       "      <th>991</th>\n",
       "      <td>Tieschitz</td>\n",
       "      <td>23989</td>\n",
       "      <td>28000.0</td>\n",
       "    </tr>\n",
       "    <tr>\n",
       "      <th>992</th>\n",
       "      <td>Tilden</td>\n",
       "      <td>23998</td>\n",
       "      <td>74800.0</td>\n",
       "    </tr>\n",
       "    <tr>\n",
       "      <th>994</th>\n",
       "      <td>Timochin</td>\n",
       "      <td>24004</td>\n",
       "      <td>65500.0</td>\n",
       "    </tr>\n",
       "    <tr>\n",
       "      <th>997</th>\n",
       "      <td>Tjabe</td>\n",
       "      <td>24011</td>\n",
       "      <td>20000.0</td>\n",
       "    </tr>\n",
       "    <tr>\n",
       "      <th>998</th>\n",
       "      <td>Tjerebon</td>\n",
       "      <td>24012</td>\n",
       "      <td>16500.0</td>\n",
       "    </tr>\n",
       "  </tbody>\n",
       "</table>\n",
       "<p>243 rows × 3 columns</p>\n",
       "</div>"
      ],
      "text/plain": [
       "           name     id      mass\n",
       "2          Abee      6  107000.0\n",
       "7          Agen    392   30000.0\n",
       "11          Aïr    424   24000.0\n",
       "16      Akyumak    433   50000.0\n",
       "27   Alfianello    466  228000.0\n",
       "..          ...    ...       ...\n",
       "991   Tieschitz  23989   28000.0\n",
       "992      Tilden  23998   74800.0\n",
       "994    Timochin  24004   65500.0\n",
       "997       Tjabe  24011   20000.0\n",
       "998    Tjerebon  24012   16500.0\n",
       "\n",
       "[243 rows x 3 columns]"
      ]
     },
     "execution_count": 11,
     "metadata": {},
     "output_type": "execute_result"
    }
   ],
   "source": [
    "dcopy[dcopy['mass']>10000][['name','id','mass']]"
   ]
  }
 ],
 "metadata": {
  "kernelspec": {
   "display_name": "Python 3 (ipykernel)",
   "language": "python",
   "name": "python3"
  },
  "language_info": {
   "codemirror_mode": {
    "name": "ipython",
    "version": 3
   },
   "file_extension": ".py",
   "mimetype": "text/x-python",
   "name": "python",
   "nbconvert_exporter": "python",
   "pygments_lexer": "ipython3",
   "version": "3.9.16"
  }
 },
 "nbformat": 4,
 "nbformat_minor": 5
}

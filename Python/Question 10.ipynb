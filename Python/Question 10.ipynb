{
 "cells": [
  {
   "cell_type": "markdown",
   "id": "c278ad7f",
   "metadata": {},
   "source": [
    "### Ques 10. Write a program to count the number of verbs, nouns, pronouns, and adjectives in a given particular phrase or paragraph, and return their respective count as a dictionary."
   ]
  },
  {
   "cell_type": "code",
   "execution_count": 1,
   "id": "ae8625cc",
   "metadata": {},
   "outputs": [],
   "source": [
    "import spacy\n",
    "from collections import defaultdict"
   ]
  },
  {
   "cell_type": "code",
   "execution_count": 2,
   "id": "219d772a",
   "metadata": {},
   "outputs": [],
   "source": [
    "def count(text):\n",
    "    nlp = spacy.load('en_core_web_sm')\n",
    "    doc = nlp(text)\n",
    "\n",
    "    counts = defaultdict(int)\n",
    "\n",
    "    for i in doc:\n",
    "        if i.pos_ == 'VERB':\n",
    "            counts['verbs'] += 1\n",
    "        elif i.pos_ == 'NOUN':\n",
    "            counts['nouns'] += 1\n",
    "        elif i.pos_ == 'PRON':\n",
    "            counts['pronouns'] += 1\n",
    "        elif i.pos_ == 'ADJ':\n",
    "            counts['adjectives'] += 1\n",
    "    return counts"
   ]
  },
  {
   "cell_type": "code",
   "execution_count": 3,
   "id": "550f98d6",
   "metadata": {},
   "outputs": [
    {
     "name": "stdout",
     "output_type": "stream",
     "text": [
      "adjectives : 3\n",
      "nouns : 4\n",
      "pronouns : 2\n",
      "verbs : 1\n"
     ]
    }
   ],
   "source": [
    "phrase = \"The tall man,Anirudh is really very tall. He is above 6 feet and 5 inches and he is sitting on an old chair\"\n",
    "counts = count(phrase)\n",
    "for i in counts:\n",
    "    print(i,':',counts[i])"
   ]
  }
 ],
 "metadata": {
  "kernelspec": {
   "display_name": "Python 3 (ipykernel)",
   "language": "python",
   "name": "python3"
  },
  "language_info": {
   "codemirror_mode": {
    "name": "ipython",
    "version": 3
   },
   "file_extension": ".py",
   "mimetype": "text/x-python",
   "name": "python",
   "nbconvert_exporter": "python",
   "pygments_lexer": "ipython3",
   "version": "3.9.16"
  }
 },
 "nbformat": 4,
 "nbformat_minor": 5
}
